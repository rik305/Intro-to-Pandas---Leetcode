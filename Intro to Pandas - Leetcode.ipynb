{
 "cells": [
  {
   "cell_type": "code",
   "execution_count": null,
   "metadata": {},
   "outputs": [],
   "source": [
    "#A1.\n",
    "import pandas as pd\n",
    "\n",
    "def createDataframe(student_data: List[List[int]]) -> pd.DataFrame:\n",
    "    df = pd.DataFrame(student_data, columns = ('student_id','age'))\n",
    "    return df"
   ]
  },
  {
   "cell_type": "code",
   "execution_count": null,
   "metadata": {},
   "outputs": [],
   "source": [
    "#A2.\n",
    "import pandas as pd\n",
    "\n",
    "def getDataframeSize(players: pd.DataFrame) -> List[int]:\n",
    "    return [len(players),players.shape[1]]"
   ]
  },
  {
   "cell_type": "code",
   "execution_count": null,
   "metadata": {},
   "outputs": [],
   "source": [
    "#A3: 2879. Display the First Three Rows\n",
    "import pandas as pd\n",
    "\n",
    "def selectFirstRows(employees: pd.DataFrame) -> pd.DataFrame:\n",
    "    return employees.head(3)"
   ]
  },
  {
   "cell_type": "code",
   "execution_count": null,
   "metadata": {},
   "outputs": [],
   "source": [
    "#A4: 2880. Select Data\n",
    "import pandas as pd\n",
    "\n",
    "def selectData(students: pd.DataFrame) -> pd.DataFrame:\n",
    "    return students.loc[students['student_id'] == 101][['name','age']]"
   ]
  },
  {
   "cell_type": "code",
   "execution_count": null,
   "metadata": {},
   "outputs": [],
   "source": [
    "#A5: 2881. Create a New Column\n",
    "import pandas as pd\n",
    "\n",
    "def createBonusColumn(employees: pd.DataFrame) -> pd.DataFrame:\n",
    "    employees[\"bonus\"] = 2*employees['salary'] \n",
    "    return employees"
   ]
  },
  {
   "cell_type": "code",
   "execution_count": null,
   "metadata": {},
   "outputs": [],
   "source": [
    "#A6: 2882. Drop Duplicate Rows\n",
    "import pandas as pd\n",
    "\n",
    "def dropDuplicateEmails(customers: pd.DataFrame) -> pd.DataFrame:\n",
    "    customers.drop_duplicates(subset='email', inplace=True)\n",
    "    return customers"
   ]
  },
  {
   "cell_type": "code",
   "execution_count": null,
   "metadata": {},
   "outputs": [],
   "source": [
    "#A7: 2883. Drop Missing Data\n",
    "import pandas as pd\n",
    "\n",
    "def dropMissingData(students: pd.DataFrame) -> pd.DataFrame:\n",
    "    students = students.dropna(subset=['name'])\n",
    "    return students"
   ]
  },
  {
   "cell_type": "code",
   "execution_count": null,
   "metadata": {},
   "outputs": [],
   "source": [
    "#A8: 2884. Modify Columns\n",
    "import pandas as pd\n",
    "\n",
    "def modifySalaryColumn(employees: pd.DataFrame) -> pd.DataFrame:\n",
    "    employees['salary'] = employees['salary']*2\n",
    "    return employees"
   ]
  },
  {
   "cell_type": "code",
   "execution_count": null,
   "metadata": {},
   "outputs": [],
   "source": [
    "#A9: 2885. Rename Columns\n",
    "import pandas as pd\n",
    "\n",
    "def renameColumns(students: pd.DataFrame) -> pd.DataFrame:\n",
    "    students[['student_id','first_name','last_name','age_in_years']]= students[['id','first','last','age']]\n",
    "    students.drop(columns=['id','first','last','age'], inplace = True)\n",
    "    return students"
   ]
  },
  {
   "cell_type": "code",
   "execution_count": null,
   "metadata": {},
   "outputs": [],
   "source": [
    "#A10: 2886. Change Data Type\n",
    "import pandas as pd\n",
    "\n",
    "def changeDatatype(students: pd.DataFrame) -> pd.DataFrame:\n",
    "    students['grade'] = students['grade'].astype(int)\n",
    "    return students"
   ]
  },
  {
   "cell_type": "code",
   "execution_count": null,
   "metadata": {},
   "outputs": [],
   "source": [
    "#A11: 2887. Fill Missing Data\n",
    "import pandas as pd\n",
    "\n",
    "def fillMissingValues(products: pd.DataFrame) -> pd.DataFrame:\n",
    "    products['quantity'].fillna(0,inplace = True)\n",
    "    return products"
   ]
  },
  {
   "cell_type": "code",
   "execution_count": null,
   "metadata": {},
   "outputs": [],
   "source": [
    "#A12: 2888. Reshape Data: Concatenate\n",
    "import pandas as pd\n",
    "\n",
    "def concatenateTables(df1: pd.DataFrame, df2: pd.DataFrame) -> pd.DataFrame:\n",
    "    return pd.concat([df1,df2])"
   ]
  },
  {
   "cell_type": "code",
   "execution_count": null,
   "metadata": {},
   "outputs": [],
   "source": [
    "#A13: 2889. Reshape Data: Pivot\n",
    "import pandas as pd\n",
    "\n",
    "def pivotTable(weather: pd.DataFrame) -> pd.DataFrame:\n",
    "    return weather.pivot(index='month',columns='city',values='temperature')"
   ]
  },
  {
   "cell_type": "code",
   "execution_count": null,
   "metadata": {},
   "outputs": [],
   "source": [
    "#A14: 2890. Reshape Data: Melt\n",
    "import pandas as pd\n",
    "\n",
    "def meltTable(report: pd.DataFrame) -> pd.DataFrame:\n",
    "    return report.melt(id_vars = 'product',var_name = 'quarter', value_name = 'sales')"
   ]
  },
  {
   "cell_type": "code",
   "execution_count": null,
   "metadata": {},
   "outputs": [],
   "source": [
    "#A15: 2891. Method Chaining\n",
    "import pandas as pd\n",
    "\n",
    "def findHeavyAnimals(animals: pd.DataFrame) -> pd.DataFrame:\n",
    "    return animals[animals[\"weight\"]>100].sort_values(by=['weight'],ascending = False)[['name']]"
   ]
  }
 ],
 "metadata": {
  "kernelspec": {
   "display_name": "Python 3",
   "language": "python",
   "name": "python3"
  },
  "language_info": {
   "codemirror_mode": {
    "name": "ipython",
    "version": 3
   },
   "file_extension": ".py",
   "mimetype": "text/x-python",
   "name": "python",
   "nbconvert_exporter": "python",
   "pygments_lexer": "ipython3",
   "version": "3.8.3"
  }
 },
 "nbformat": 4,
 "nbformat_minor": 4
}
